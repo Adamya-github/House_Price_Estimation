{
 "cells": [
  {
   "cell_type": "code",
   "execution_count": null,
   "metadata": {},
   "outputs": [],
   "source": [
    "import pandas as pd\n",
    "from sklearn.model_selection import train_test_split\n",
    "from sklearn.linear_model import LinearRegression\n",
    "from sklearn.preprocessing import StandardScaler\n",
    "import joblib\n",
    "\n",
    "# Load dataset\n",
    "df = pd.read_csv('AmesHousing.csv')\n",
    "\n",
    "# Selecting the features and target variable\n",
    "features = ['Overall Qual', 'Gr Liv Area', 'Total Bsmt SF', '1st Flr SF',\n",
    "            'BsmtFin SF 1', '2nd Flr SF', 'Lot Area', 'Garage Cars', \n",
    "            'Garage Area', 'Year Built']\n",
    "target = 'SalePrice'\n",
    "\n",
    "# Handling missing values by filling them with the mean value\n",
    "df[features] = df[features].fillna(df[features].mean())\n",
    "\n",
    "X = df[features]\n",
    "y = df[target]\n",
    "\n",
    "# Splitting the dataset\n",
    "X_train, X_test, y_train, y_test = train_test_split(X, y, test_size=0.2, random_state=42)\n",
    "\n",
    "# Scaling the features\n",
    "scaler = StandardScaler()\n",
    "X_train_scaled = scaler.fit_transform(X_train)\n",
    "X_test_scaled = scaler.transform(X_test)\n",
    "\n",
    "# Training the model\n",
    "model = LinearRegression()\n",
    "model.fit(X_train_scaled, y_train)\n",
    "\n",
    "# Save model and scaler\n",
    "joblib.dump(model, '/model/house_price_model.pkl')\n",
    "joblib.dump(scaler, '/model/scaler.pkl')\n"
   ]
  }
 ],
 "metadata": {
  "language_info": {
   "name": "python"
  }
 },
 "nbformat": 4,
 "nbformat_minor": 2
}
